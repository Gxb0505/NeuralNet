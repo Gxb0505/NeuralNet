{
 "cells": [
  {
   "cell_type": "code",
   "execution_count": 10,
   "metadata": {
    "collapsed": true
   },
   "outputs": [],
   "source": [
    "import numpy as np"
   ]
  },
  {
   "cell_type": "code",
   "execution_count": 11,
   "metadata": {
    "collapsed": true
   },
   "outputs": [],
   "source": [
    "def nonlin(x,deriv=False):\n",
    "    if(deriv==True):\n",
    "        return x*(1-x)\n",
    "    \n",
    "    return 1/(1+np.exp(-x))"
   ]
  },
  {
   "cell_type": "code",
   "execution_count": 12,
   "metadata": {
    "collapsed": true
   },
   "outputs": [],
   "source": [
    "X=np.array([[0,0,1],\n",
    "            [0,1,1],\n",
    "            [1,0,1],\n",
    "            [1,1,1]\n",
    "            ])\n",
    "Y=np.array([[0],[1],[1],[0]])"
   ]
  },
  {
   "cell_type": "code",
   "execution_count": 13,
   "metadata": {
    "collapsed": true
   },
   "outputs": [],
   "source": [
    "np.random.seed(1)"
   ]
  },
  {
   "cell_type": "code",
   "execution_count": 22,
   "metadata": {
    "collapsed": true
   },
   "outputs": [],
   "source": [
    "\n",
    "#random initilize our weights with mean 0\n",
    "syn0=2*np.random.random((3,4))-1\n",
    "syn1=2*np.random.random((4,1))-1"
   ]
  },
  {
   "cell_type": "code",
   "execution_count": 29,
   "metadata": {
    "collapsed": false
   },
   "outputs": [
    {
     "name": "stdout",
     "output_type": "stream",
     "text": [
      "Error: 0.00306980716989\n",
      "Error: 0.00282739056306\n",
      "Error: 0.00263396175144\n",
      "Error: 0.00247503663665\n",
      "Error: 0.00234148294187\n",
      "Error: 0.00222722276468\n"
     ]
    }
   ],
   "source": [
    "for j in range(60000):\n",
    "    #Feed forward through layer 0,1,2\n",
    "    I0=X\n",
    "    I1=nonlin(np.dot(I0,syn0)) #(4,3)x(3,4)=(4,4)\n",
    "    I2=nonlin(np.dot(I1,syn1)) #(4,4)x(4,1)=(4,1)\n",
    "    \n",
    "    #how much we miss the target value\n",
    "    I2_error=Y-I2\n",
    "    \n",
    "    if(j%10000)==0:\n",
    "        print(\"Error: \"+str(np.mean(np.abs(I2_error))))\n",
    "        \n",
    "    #ib what direction is the target I1?\n",
    "    #were we really sure? If so,don't change too much\n",
    "    I2_delta=I2_error*nonlin(I2,deriv=True) #(4,1)\n",
    "    \n",
    "    #how much did each I1 value contribute to the I2 error(according to the weights)\n",
    "    I1_error=I2_delta.dot(syn1.T) #(4,1)x(1,4)=(4,4)\n",
    "    \n",
    "    #in what direction is the taret I1?\n",
    "    #were we really sure?if so,don't change too much\n",
    "    I1_delta=I1_error*nonlin(I1,deriv=True) #(4,4)x(4,3)=(4,3)\n",
    "    \n",
    "    syn1+=I1.T.dot(I2_delta) #(4,4)x(4,1)=(4,1)\n",
    "    syn0+=I0.T.dot(I1_delta) #(3,4)x(4,4)=(3,4)"
   ]
  },
  {
   "cell_type": "code",
   "execution_count": 30,
   "metadata": {
    "collapsed": false
   },
   "outputs": [
    {
     "data": {
      "text/plain": [
       "4"
      ]
     },
     "execution_count": 30,
     "metadata": {},
     "output_type": "execute_result"
    }
   ],
   "source": [
    "syn1.size"
   ]
  },
  {
   "cell_type": "code",
   "execution_count": null,
   "metadata": {
    "collapsed": true
   },
   "outputs": [],
   "source": []
  }
 ],
 "metadata": {
  "anaconda-cloud": {},
  "kernelspec": {
   "display_name": "Python [default]",
   "language": "python",
   "name": "python3"
  },
  "language_info": {
   "codemirror_mode": {
    "name": "ipython",
    "version": 3
   },
   "file_extension": ".py",
   "mimetype": "text/x-python",
   "name": "python",
   "nbconvert_exporter": "python",
   "pygments_lexer": "ipython3",
   "version": "3.5.2"
  }
 },
 "nbformat": 4,
 "nbformat_minor": 1
}
